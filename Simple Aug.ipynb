{
 "cells": [
  {
   "cell_type": "markdown",
   "metadata": {},
   "source": [
    "This notebook generates adding images using transposes and rotates of original ones those are poorly represented in train dataset. Original images should be placed at INPUT_DIR. It lets us generate 144 images from 12. \n",
    "\n",
    "Данный notebook генерирует дополнительные изображения путём отзеркаливания и поворотов для классов представленных в тренировочной выборке несколькими изображениями. Их нужно поместить в INPUT_DIR. Из 12 изображений получилось 144(около 1% от общей выборки), что скорее всего помогло остаться с положительными скорами. "
   ]
  },
  {
   "cell_type": "code",
   "execution_count": 12,
   "metadata": {},
   "outputs": [],
   "source": [
    "import pandas as pd\n",
    "import numpy as np\n",
    "import os\n",
    "from PIL import Image\n",
    "import random"
   ]
  },
  {
   "cell_type": "code",
   "execution_count": 20,
   "metadata": {},
   "outputs": [],
   "source": [
    "def change_first(token):\n",
    "    # генерация нового имени для файла путём замены первого числа\n",
    "    # generating new name by replacing the first number\n",
    "    \n",
    "    name = str(random.uniform(-2.5, 2.5)) +\"__\"+ token.split(\"__\")[1]\n",
    "    return name"
   ]
  },
  {
   "cell_type": "code",
   "execution_count": 18,
   "metadata": {},
   "outputs": [],
   "source": [
    "def generate_images(INPUT_DIR, OUTPUT_DIR):\n",
    "    \n",
    "    images = os.listdir(INPUT_DIR)\n",
    "\n",
    "    for i in images:\n",
    "        # для всех изображений\n",
    "        # for all omages\n",
    "        \n",
    "        colorImage  = Image.open(os.path.join(INPUT_DIR, i))\n",
    "        colorImage.save(os.path.join(OUTPUT_DIR, change_first(i)))\n",
    "        \n",
    "        for _ in range(3):\n",
    "            #поворот на 90 x3 оригинального изображения\n",
    "            # rotate on 90 degrees three times\n",
    "            colorImage  = colorImage.transpose(Image.ROTATE_90)\n",
    "            colorImage.save(os.path.join(OUTPUT_DIR, change_first(i)))\n",
    "\n",
    "        colorImage  = Image.open(os.path.join(INPUT_DIR, i))\n",
    "        \n",
    "        #отзеркаливание по вертикальной оси\n",
    "        #transpose on the vertical axis\n",
    "        colorImage = colorImage.transpose(method=Image.FLIP_LEFT_RIGHT)\n",
    "        colorImage.save(os.path.join(OUTPUT_DIR, change_first(i)))\n",
    "\n",
    "        for _ in range(3):\n",
    "            #поворот на 90 x3 отзеркаленого изображения\n",
    "            # rotate on 90 degrees three times\n",
    "            colorImage  = colorImage.transpose(Image.ROTATE_90)\n",
    "            colorImage.save(os.path.join(OUTPUT_DIR, change_first(i)))\n",
    "\n",
    "        colorImage  = Image.open(os.path.join(INPUT_DIR, i))\n",
    "\n",
    "        #отзеркаливание по горизонтальной оси\n",
    "        #transpose on the horizontal axis\n",
    "        colorImage = colorImage.transpose(method=Image.FLIP_TOP_BOTTOM)\n",
    "        colorImage.save(os.path.join(OUTPUT_DIR, change_first(i)))\n",
    "\n",
    "        for _ in range(3):\n",
    "            #поворот на 90 x3 отзеркаленого изображения\n",
    "            #rotate on 90 degrees three times\n",
    "            colorImage  = colorImage.transpose(Image.ROTATE_90)\n",
    "            colorImage.save(os.path.join(OUTPUT_DIR, change_first(i)))\n",
    "        \n",
    "\n"
   ]
  },
  {
   "cell_type": "code",
   "execution_count": 19,
   "metadata": {},
   "outputs": [],
   "source": [
    "generate_images(\"./IMG_ER/\", \"./IMG_ER_AUG/\")\n"
   ]
  },
  {
   "cell_type": "code",
   "execution_count": 16,
   "metadata": {},
   "outputs": [],
   "source": [
    "generate_images(\"./IMG_NR/\", \"./IMG_NR_AUG/\")"
   ]
  },
  {
   "cell_type": "markdown",
   "metadata": {},
   "source": [
    "Created images should be copied to train data.\n",
    "\n",
    "Изображения из папок копируются в тренировочные данные. "
   ]
  },
  {
   "cell_type": "code",
   "execution_count": null,
   "metadata": {},
   "outputs": [],
   "source": []
  }
 ],
 "metadata": {
  "kernelspec": {
   "display_name": "Python 3",
   "language": "python",
   "name": "python3"
  },
  "language_info": {
   "codemirror_mode": {
    "name": "ipython",
    "version": 3
   },
   "file_extension": ".py",
   "mimetype": "text/x-python",
   "name": "python",
   "nbconvert_exporter": "python",
   "pygments_lexer": "ipython3",
   "version": "3.7.6"
  }
 },
 "nbformat": 4,
 "nbformat_minor": 4
}
